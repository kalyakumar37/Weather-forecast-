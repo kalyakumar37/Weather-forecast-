{
  "nbformat": 4,
  "nbformat_minor": 0,
  "metadata": {
    "colab": {
      "provenance": [],
      "include_colab_link": true
    },
    "kernelspec": {
      "name": "python3",
      "display_name": "Python 3"
    },
    "language_info": {
      "name": "python"
    }
  },
  "cells": [
    {
      "cell_type": "markdown",
      "metadata": {
        "id": "view-in-github",
        "colab_type": "text"
      },
      "source": [
        "<a href=\"https://colab.research.google.com/github/kalyakumar37/Weather-forecast-/blob/main/API_Weather.ipynb\" target=\"_parent\"><img src=\"https://colab.research.google.com/assets/colab-badge.svg\" alt=\"Open In Colab\"/></a>"
      ]
    },
    {
      "cell_type": "code",
      "execution_count": null,
      "metadata": {
        "colab": {
          "base_uri": "https://localhost:8080/"
        },
        "id": "PDe_s5wEJUj6",
        "outputId": "05091641-da56-4f13-80f4-e45b7b0de4f2"
      },
      "outputs": [
        {
          "output_type": "stream",
          "name": "stdout",
          "text": [
            "Enter the city name: Bangalore\n",
            "Weather in Bangalore:\n",
            "Temperature: 31.59\n",
            "Humidity: 47\n",
            "Description: scattered clouds\n"
          ]
        }
      ],
      "source": [
        "import requests\n",
        "\n",
        "def get_weather(city):\n",
        "    api_key = '033f19189a8ab629d8ac47ab098e86ef'  # Replace with your OpenWeatherMap API key\n",
        "    base_url = 'http://api.openweathermap.org/data/2.5/weather'\n",
        "\n",
        "    params = {\n",
        "        'q': city,\n",
        "        'appid': api_key,\n",
        "        'units': 'metric'  # Use 'imperial' for Fahrenheit\n",
        "    }\n",
        "\n",
        "    try:\n",
        "        response = requests.get(base_url, params=params)\n",
        "        data = response.json()\n",
        "\n",
        "        if data['cod'] == 200:\n",
        "            weather_info = {\n",
        "                'Temperature': data['main']['temp'],\n",
        "                'Humidity': data['main']['humidity'],\n",
        "                'Description': data['weather'][0]['description']\n",
        "            }\n",
        "\n",
        "            print(f\"Weather in {city}:\")\n",
        "            for key, value in weather_info.items():\n",
        "                print(f\"{key}: {value}\")\n",
        "        else:\n",
        "            print(f\"Error: {data['message']}\")\n",
        "    except requests.exceptions.RequestException as e:\n",
        "        print(f\"An error occurred: {e}\")\n",
        "\n",
        "# Provide the city name as input\n",
        "city_name = input(\"Enter the city name: \")\n",
        "get_weather(city_name)\n"
      ]
    }
  ]
}